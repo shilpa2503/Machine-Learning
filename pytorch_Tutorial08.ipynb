{
  "nbformat": 4,
  "nbformat_minor": 0,
  "metadata": {
    "colab": {
      "name": "pytorch_Tutorial08.ipynb",
      "provenance": [],
      "collapsed_sections": [],
      "authorship_tag": "ABX9TyORVQcGZMJMhUQ7447Q/uDM",
      "include_colab_link": true
    },
    "kernelspec": {
      "name": "python3",
      "display_name": "Python 3"
    },
    "language_info": {
      "name": "python"
    }
  },
  "cells": [
    {
      "cell_type": "markdown",
      "metadata": {
        "id": "view-in-github",
        "colab_type": "text"
      },
      "source": [
        "<a href=\"https://colab.research.google.com/github/shilpa2503/Machine-Learning/blob/main/pytorch_Tutorial08.ipynb\" target=\"_parent\"><img src=\"https://colab.research.google.com/assets/colab-badge.svg\" alt=\"Open In Colab\"/></a>"
      ]
    },
    {
      "cell_type": "code",
      "execution_count": 8,
      "metadata": {
        "id": "zLBAybRrb30K"
      },
      "outputs": [],
      "source": [
        "#Machinde learning pipeline\n",
        "# 1. Design model(input size, output size, forward pass)\n",
        "# 2. Construct loss and optimizer\n",
        "# 3. Training loop:\n",
        "#    -Compute forward pass\n",
        "#    -Backkward pass: Compute gradients\n",
        "#    -Update weights. "
      ]
    },
    {
      "cell_type": "code",
      "source": [
        "import torch\n",
        "import torch.nn as nn \n",
        "import numpy as np\n",
        "from sklearn import datasets\n",
        "from sklearn.preprocessing import StandardScaler \n",
        "# Standaed scalar to scale our features.\n",
        "from sklearn.model_selection import train_test_split\n",
        "#to sepearte the training and test data \n",
        "import matplotlib.pyplot as plt"
      ],
      "metadata": {
        "id": "NpueOeflz--4"
      },
      "execution_count": 9,
      "outputs": []
    },
    {
      "cell_type": "code",
      "source": [
        "# 0) Preprocess data\n",
        "#loading breast cancer dataset from dataset. \n",
        "\n",
        "bc = datasets.load_breast_cancer()\n",
        "X,y = bc.data, bc.target\n",
        "n_samples, n_features = X.shape\n",
        "print(n_samples, n_features)\n",
        "\n",
        "X_train, X_test, y_train, y_test = train_test_split(X,y, test_size=0.2, random_state = 1234)\n",
        "sc = StandardScaler()\n",
        "X_train = sc.fit_transform(X_train)\n",
        "X_test = sc.transform(X_test)\n",
        "\n",
        "X_train = torch.from_numpy(X_train.astype(np.float32))\n",
        "X_test = torch.from_numpy(X_test.astype(np.float32))\n",
        "y_train = torch.from_numpy(y_train.astype(np.float32))\n",
        "y_test = torch.from_numpy(y_test.astype(np.float32))\n",
        "\n",
        "#reshape y \n",
        "y_train = y_train.view(y_train.shape[0],1)\n",
        "y_test = y_test.view(y_test.shape[0],1)"
      ],
      "metadata": {
        "colab": {
          "base_uri": "https://localhost:8080/"
        },
        "id": "neupYB2s9m-6",
        "outputId": "5f77ff8b-31fe-4cd3-db55-36d428c0ba54"
      },
      "execution_count": 10,
      "outputs": [
        {
          "output_type": "stream",
          "name": "stdout",
          "text": [
            "569 30\n"
          ]
        }
      ]
    },
    {
      "cell_type": "code",
      "source": [
        "# 1) set up model \n",
        "# f= xw + bias, sigmoid fnction at end\n",
        "class LogisticRegression(nn.Module):\n",
        "  def __init__(self,n_input_features):\n",
        "   super(LogisticRegression,self).__init__()\n",
        "   self.linear = nn.Linear(n_input_features, 1)\n",
        "\n",
        "  def forward(self, x):\n",
        "    y_predicted = torch.sigmoid(self.linear(x))\n",
        "    return y_predicted\n",
        "\n",
        "model = LogisticRegression(n_features)"
      ],
      "metadata": {
        "id": "n5A5Myc5_KJD"
      },
      "execution_count": 11,
      "outputs": []
    },
    {
      "cell_type": "code",
      "source": [
        "#2) Set up loss and optimizer \n",
        "criterion  = nn.BCELoss()\n",
        "learning_rate = 0.01\n",
        "optimizer = torch.optim.SGD(model.parameters(), lr = learning_rate)"
      ],
      "metadata": {
        "id": "n35zPaCAcOry"
      },
      "execution_count": 12,
      "outputs": []
    },
    {
      "cell_type": "code",
      "source": [
        "#3) Training loop:\n",
        "\n",
        "num_eopchs = 500\n",
        "#  - Compute Forward pass and loss \n",
        "for epoch in range(num_eopchs):\n",
        "  y_predicted = model(X_train)\n",
        "  loss = criterion(y_predicted, y_train)\n",
        "#  - Backward pass - compute gradients\n",
        "  loss.backward()\n",
        "#  - Update weights\n",
        "  optimizer.step()\n",
        "  optimizer.zero_grad()\n",
        "\n",
        "  if (epoch+1) % 20 == 0:\n",
        "    print(f'epoch : {epoch+1}, loss = {loss.item():0.4f}')"
      ],
      "metadata": {
        "colab": {
          "base_uri": "https://localhost:8080/"
        },
        "id": "USsXSvel0rxl",
        "outputId": "2e376a1b-0d97-4787-9c6f-c1c291edd77b"
      },
      "execution_count": 13,
      "outputs": [
        {
          "output_type": "stream",
          "name": "stdout",
          "text": [
            "epoch : 20, loss = 0.4348\n",
            "epoch : 40, loss = 0.3485\n",
            "epoch : 60, loss = 0.2989\n",
            "epoch : 80, loss = 0.2658\n",
            "epoch : 100, loss = 0.2417\n",
            "epoch : 120, loss = 0.2232\n",
            "epoch : 140, loss = 0.2083\n",
            "epoch : 160, loss = 0.1961\n",
            "epoch : 180, loss = 0.1858\n",
            "epoch : 200, loss = 0.1770\n",
            "epoch : 220, loss = 0.1694\n",
            "epoch : 240, loss = 0.1627\n",
            "epoch : 260, loss = 0.1567\n",
            "epoch : 280, loss = 0.1514\n",
            "epoch : 300, loss = 0.1467\n",
            "epoch : 320, loss = 0.1424\n",
            "epoch : 340, loss = 0.1385\n",
            "epoch : 360, loss = 0.1349\n",
            "epoch : 380, loss = 0.1317\n",
            "epoch : 400, loss = 0.1287\n",
            "epoch : 420, loss = 0.1259\n",
            "epoch : 440, loss = 0.1233\n",
            "epoch : 460, loss = 0.1209\n",
            "epoch : 480, loss = 0.1187\n",
            "epoch : 500, loss = 0.1166\n"
          ]
        }
      ]
    },
    {
      "cell_type": "code",
      "source": [
        "with torch.no_grad():\n",
        "  y_predicted = model(X_test)\n",
        "  y_predicted_cls = y_predicted.round()\n",
        "  acc = y_predicted_cls.eq(y_test).sum() / float(y_test.shape[0])\n",
        "  print(f'Accuracy of the model : {acc:0.4f}')\n"
      ],
      "metadata": {
        "colab": {
          "base_uri": "https://localhost:8080/"
        },
        "id": "jlSt7vGO0yYL",
        "outputId": "6e09824b-9956-40b0-e5ff-efaee5489fad"
      },
      "execution_count": 14,
      "outputs": [
        {
          "output_type": "stream",
          "name": "stdout",
          "text": [
            "Accuracy of the model : 0.9123\n"
          ]
        }
      ]
    }
  ]
}