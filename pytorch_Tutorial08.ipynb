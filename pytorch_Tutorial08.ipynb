{
  "nbformat": 4,
  "nbformat_minor": 0,
  "metadata": {
    "colab": {
      "name": "pytorch_Tutorial08.ipynb",
      "provenance": [],
      "collapsed_sections": [],
      "authorship_tag": "ABX9TyMUAj6Avf3Vgj4p3mY1PYJM",
      "include_colab_link": true
    },
    "kernelspec": {
      "name": "python3",
      "display_name": "Python 3"
    },
    "language_info": {
      "name": "python"
    }
  },
  "cells": [
    {
      "cell_type": "markdown",
      "metadata": {
        "id": "view-in-github",
        "colab_type": "text"
      },
      "source": [
        "<a href=\"https://colab.research.google.com/github/shilpa2503/Machine-Learning/blob/main/pytorch_Tutorial08.ipynb\" target=\"_parent\"><img src=\"https://colab.research.google.com/assets/colab-badge.svg\" alt=\"Open In Colab\"/></a>"
      ]
    },
    {
      "cell_type": "code",
      "execution_count": 37,
      "metadata": {
        "id": "zLBAybRrb30K"
      },
      "outputs": [],
      "source": [
        "#Machinde learning pipeline\n",
        "# 1. Design model(input size, output size, forward pass)\n",
        "# 2. Construct loss and optimizer\n",
        "# 3. Training loop:\n",
        "#    -Compute forward pass\n",
        "#    -Backkward pass: Compute gradients\n",
        "#    -Update weights. "
      ]
    },
    {
      "cell_type": "code",
      "source": [
        "import torch\n",
        "import torch.nn as nn \n",
        "import numpy as np\n",
        "from sklearn import datasets\n",
        "from sklearn.preprocessing import StandardScaler \n",
        "# Standaed scalar to scale our features.\n",
        "from sklearn.model_selection import train_test_split\n",
        "#to sepearte the training and test data \n",
        "import matplotlib.pyplot as plt"
      ],
      "metadata": {
        "id": "NpueOeflz--4"
      },
      "execution_count": 38,
      "outputs": []
    },
    {
      "cell_type": "code",
      "source": [
        "# 0) Preprocess data\n",
        "#loading breast cancer dataset from dataset. \n",
        "\n",
        "bc = datasets.load_breast_cancer()\n",
        "X,y = bc.data, bc.target\n",
        "n_samples, n_features = X.shape\n",
        "print(n_samples, n_features)\n",
        "\n",
        "X_train, X_test, y_train, y_test = train_test_split(X,y, test_size=0.2, random_state = 1234)\n",
        "sc = StandardScaler()\n",
        "X_train = sc.fit_transform(X_train)\n",
        "X_test = sc.transform(X_test)\n",
        "\n",
        "X_train = torch.from_numpy(X_train.astype(np.float32))\n",
        "X_test = torch.from_numpy(X_test.astype(np.float32))\n",
        "y_train = torch.from_numpy(y_train.astype(np.float32))\n",
        "y_test = torch.from_numpy(y_test.astype(np.float32))\n",
        "\n",
        "#reshape y \n",
        "y_train = y_train.view(y_train.shape[0],1)\n",
        "y_test = y_test.view(y_test.shape[0],1)"
      ],
      "metadata": {
        "colab": {
          "base_uri": "https://localhost:8080/"
        },
        "id": "neupYB2s9m-6",
        "outputId": "23c5ffe8-ea14-4b18-e417-08b2cb784740"
      },
      "execution_count": 39,
      "outputs": [
        {
          "output_type": "stream",
          "name": "stdout",
          "text": [
            "569 30\n"
          ]
        }
      ]
    },
    {
      "cell_type": "code",
      "source": [
        "# 1) set up model \n",
        "# f= xw + bias, sigmoid fnction at end\n",
        "class LogisticRegression(nn.Module):\n",
        "  def __init__(self,n_input_features):\n",
        "   super(LogisticRegression,self).__init__()\n",
        "   self.linear = nn.Linear(n_input_features, 1)\n",
        "\n",
        "  def forward(self, x):\n",
        "    y_predicted = torch.sigmoid(self.linear(x))\n",
        "    return y_predicted\n",
        "\n",
        "model = LogisticRegression(n_features)"
      ],
      "metadata": {
        "id": "n5A5Myc5_KJD"
      },
      "execution_count": 46,
      "outputs": []
    },
    {
      "cell_type": "code",
      "source": [
        "#2) Set up loss and optimizer \n",
        "criterion  = nn.BCELoss()\n",
        "learning_rate = 0.01\n",
        "optimizer = torch.optim.SGD(model.parameters(), lr = learning_rate)"
      ],
      "metadata": {
        "id": "n35zPaCAcOry"
      },
      "execution_count": 47,
      "outputs": []
    },
    {
      "cell_type": "code",
      "source": [
        "#3) Training loop:\n",
        "\n",
        "num_eopchs = 200\n",
        "#  - Compute Forward pass and loss \n",
        "for epoch in range(num_eopchs):\n",
        "  y_predicted = model(X_train)\n",
        "  loss = criterion(y_predicted, y_train)\n",
        "#  - Backward pass - compute gradients\n",
        "  loss.backward()\n",
        "#  - Update weights\n",
        "  optimizer.step()\n",
        "  optimizer.zero_grad()\n",
        "\n",
        "  if (epoch+1) % 10 == 0:\n",
        "    print(f'epoch : {epoch+1}, loss = {loss.item():0.4f}')"
      ],
      "metadata": {
        "colab": {
          "base_uri": "https://localhost:8080/"
        },
        "id": "USsXSvel0rxl",
        "outputId": "a51077f4-1aee-483b-852e-586d237ef3a0"
      },
      "execution_count": 50,
      "outputs": [
        {
          "output_type": "stream",
          "name": "stdout",
          "text": [
            "epoch : 10, loss = 0.2259\n",
            "epoch : 20, loss = 0.2178\n",
            "epoch : 30, loss = 0.2105\n",
            "epoch : 40, loss = 0.2039\n",
            "epoch : 50, loss = 0.1979\n",
            "epoch : 60, loss = 0.1923\n",
            "epoch : 70, loss = 0.1872\n",
            "epoch : 80, loss = 0.1825\n",
            "epoch : 90, loss = 0.1782\n",
            "epoch : 100, loss = 0.1741\n",
            "epoch : 110, loss = 0.1703\n",
            "epoch : 120, loss = 0.1667\n",
            "epoch : 130, loss = 0.1634\n",
            "epoch : 140, loss = 0.1602\n",
            "epoch : 150, loss = 0.1572\n",
            "epoch : 160, loss = 0.1544\n",
            "epoch : 170, loss = 0.1518\n",
            "epoch : 180, loss = 0.1493\n",
            "epoch : 190, loss = 0.1469\n",
            "epoch : 200, loss = 0.1446\n"
          ]
        }
      ]
    },
    {
      "cell_type": "code",
      "source": [
        "with torch.no_grad():\n",
        "  y_predicted = model(X_test)\n",
        "  y_predicted_cls = y_predicted.round()\n",
        "  acc = y_predicted_cls.eq(y_test).sum() / float(y_test.shape[0])\n",
        "  print(f'Accuracy of the model : {acc:0.4f}')\n"
      ],
      "metadata": {
        "colab": {
          "base_uri": "https://localhost:8080/"
        },
        "id": "jlSt7vGO0yYL",
        "outputId": "2d667037-d5c2-4d6f-ff43-2677b752f8d5"
      },
      "execution_count": 51,
      "outputs": [
        {
          "output_type": "stream",
          "name": "stdout",
          "text": [
            "Accuracy of the model : 0.9123\n"
          ]
        }
      ]
    }
  ]
}