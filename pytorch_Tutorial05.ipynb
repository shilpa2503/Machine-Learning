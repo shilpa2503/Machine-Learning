{
  "nbformat": 4,
  "nbformat_minor": 0,
  "metadata": {
    "colab": {
      "name": "pytorch_Tutorial05.ipynb",
      "provenance": [],
      "collapsed_sections": [],
      "authorship_tag": "ABX9TyMtA+UqlCjnFudVApHMyhFT",
      "include_colab_link": true
    },
    "kernelspec": {
      "name": "python3",
      "display_name": "Python 3"
    },
    "language_info": {
      "name": "python"
    },
    "accelerator": "GPU",
    "gpuClass": "standard"
  },
  "cells": [
    {
      "cell_type": "markdown",
      "metadata": {
        "id": "view-in-github",
        "colab_type": "text"
      },
      "source": [
        "<a href=\"https://colab.research.google.com/github/shilpa2503/Machine-Learning/blob/main/pytorch_Tutorial05.ipynb\" target=\"_parent\"><img src=\"https://colab.research.google.com/assets/colab-badge.svg\" alt=\"Open In Colab\"/></a>"
      ]
    },
    {
      "cell_type": "code",
      "execution_count": 1,
      "metadata": {
        "id": "wXVULjEYqLTc"
      },
      "outputs": [],
      "source": [
        "import numpy as np"
      ]
    },
    {
      "cell_type": "code",
      "source": [
        "#inputs \n",
        "X = np.array([1.0,2.0,3.0,4.0],dtype=np.float32)\n",
        "Y = np.array([2.0,4.0,6.0,8.0],dtype=np.float32)\n",
        "#Initialize weight \n",
        "w = 0.0\n",
        "print(X.dtype)\n",
        "print(Y.shape)"
      ],
      "metadata": {
        "colab": {
          "base_uri": "https://localhost:8080/"
        },
        "id": "wvzkvvIcqPf1",
        "outputId": "621e072f-70ca-4660-c300-f9972bc37eda"
      },
      "execution_count": 2,
      "outputs": [
        {
          "output_type": "stream",
          "name": "stdout",
          "text": [
            "float32\n",
            "(4,)\n"
          ]
        }
      ]
    },
    {
      "cell_type": "code",
      "source": [
        "#Model prediction\n",
        "def forward(x):\n",
        "  return w * x\n",
        "#Compute loss = Mean squared Loss\n",
        "def loss(y,y_predicted):\n",
        "  return((y_predicted - y) ** 2).mean()\n",
        "#Find gradient\n",
        "def gradient(x,y,y_predicted):\n",
        "  return np.dot(2 * x, (y_predicted - y)).mean()\n",
        "print(f'Prediction before training : f(5) = {forward(5):3f}')"
      ],
      "metadata": {
        "colab": {
          "base_uri": "https://localhost:8080/"
        },
        "id": "Z_iIOsjqwSvJ",
        "outputId": "cb3a1334-54ca-4160-b0ea-efb42bfa8aa1"
      },
      "execution_count": 3,
      "outputs": [
        {
          "output_type": "stream",
          "name": "stdout",
          "text": [
            "Prediction before training : f(5) = 0.000000\n"
          ]
        }
      ]
    },
    {
      "cell_type": "code",
      "source": [
        "#Training \n",
        "learning_rate = 0.01\n",
        "n_iters = 20\n",
        "\n",
        "for epoch in range(n_iters):\n",
        "  #forward pass\n",
        "  y_pred = forward(X)\n",
        "  #compute loss\n",
        "  l = loss(Y,y_pred)\n",
        "  #gradient decent\n",
        "  dW = gradient(X,Y,y_pred)\n",
        "\n",
        "  #update weights\n",
        "  w -= learning_rate * dW\n",
        "\n",
        "  if epoch % 1 == 0:\n",
        "    print(f'epoch {epoch+1}: w = {w:.3f}, loss = {l:.8f}')\n",
        "\n",
        "print(f'Prediction after training : f(5) = {forward(5):3f}')\n"
      ],
      "metadata": {
        "colab": {
          "base_uri": "https://localhost:8080/"
        },
        "id": "0Ut9WaDvx3WE",
        "outputId": "50e3e7d5-ed97-4390-b5a2-3b5a9a3e7bc2"
      },
      "execution_count": 4,
      "outputs": [
        {
          "output_type": "stream",
          "name": "stdout",
          "text": [
            "epoch 1: w = 1.200, loss = 30.00000000\n",
            "epoch 2: w = 1.680, loss = 4.79999924\n",
            "epoch 3: w = 1.872, loss = 0.76800019\n",
            "epoch 4: w = 1.949, loss = 0.12288000\n",
            "epoch 5: w = 1.980, loss = 0.01966083\n",
            "epoch 6: w = 1.992, loss = 0.00314574\n",
            "epoch 7: w = 1.997, loss = 0.00050331\n",
            "epoch 8: w = 1.999, loss = 0.00008053\n",
            "epoch 9: w = 1.999, loss = 0.00001288\n",
            "epoch 10: w = 2.000, loss = 0.00000206\n",
            "epoch 11: w = 2.000, loss = 0.00000033\n",
            "epoch 12: w = 2.000, loss = 0.00000005\n",
            "epoch 13: w = 2.000, loss = 0.00000001\n",
            "epoch 14: w = 2.000, loss = 0.00000000\n",
            "epoch 15: w = 2.000, loss = 0.00000000\n",
            "epoch 16: w = 2.000, loss = 0.00000000\n",
            "epoch 17: w = 2.000, loss = 0.00000000\n",
            "epoch 18: w = 2.000, loss = 0.00000000\n",
            "epoch 19: w = 2.000, loss = 0.00000000\n",
            "epoch 20: w = 2.000, loss = 0.00000000\n",
            "Prediction after training : f(5) = 10.000000\n"
          ]
        }
      ]
    },
    {
      "cell_type": "code",
      "source": [
        "import torch\n",
        "\n",
        "A = torch.tensor([1.0,2.0,3.0,4.0],dtype=torch.float32)\n",
        "B = torch.tensor([2.0,4.0,6.0,8.0],dtype=torch.float32)\n",
        "w = torch.tensor([0.0], dtype = torch.float32, requires_grad=True)"
      ],
      "metadata": {
        "id": "8amUCAvczpNc"
      },
      "execution_count": 5,
      "outputs": []
    },
    {
      "cell_type": "code",
      "source": [
        "\n",
        "#model prediction\n",
        "def forward(x):\n",
        "  return w * x\n",
        "#Compute loss = Mean squared Loss\n",
        "def loss(y,y_predicted):\n",
        "  return((y_predicted - y) ** 2).mean()"
      ],
      "metadata": {
        "id": "WRncX4YXOv53"
      },
      "execution_count": 6,
      "outputs": []
    },
    {
      "cell_type": "code",
      "source": [
        "#Training \n",
        "\n",
        "learning_rate= 0.01\n",
        "n_iters = 2000\n",
        "\n",
        "for epoch in range(n_iters):\n",
        "  #perform forward pass\n",
        "  y_pred = forward(A)\n",
        "  #Compute loss\n",
        "  l = loss(B,y_pred)\n",
        "  #to calculate gradient of loss wrt Weights\n",
        "  l.backward()\n",
        "\n",
        "  #update weights\n",
        "  with torch.no_grad():\n",
        "    w -= learning_rate * w.grad\n",
        "\n",
        "  w.grad.zero_()\n",
        "\n",
        "print('{:2f}'.format(forward(10).item()))"
      ],
      "metadata": {
        "colab": {
          "base_uri": "https://localhost:8080/"
        },
        "id": "uncbE0p8QOaA",
        "outputId": "c0635d44-412a-4a1b-9b51-d8bc44416f51"
      },
      "execution_count": 7,
      "outputs": [
        {
          "output_type": "stream",
          "name": "stdout",
          "text": [
            "19.999996\n"
          ]
        }
      ]
    },
    {
      "cell_type": "code",
      "source": [
        ""
      ],
      "metadata": {
        "id": "cgd_Ta3pUDhM"
      },
      "execution_count": null,
      "outputs": []
    }
  ]
}