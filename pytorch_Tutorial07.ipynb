{
  "nbformat": 4,
  "nbformat_minor": 0,
  "metadata": {
    "colab": {
      "name": "pytorch_Tutorial07.ipynb",
      "provenance": [],
      "collapsed_sections": [],
      "authorship_tag": "ABX9TyNkZ1FiugdMSxRlGoxkrbdH",
      "include_colab_link": true
    },
    "kernelspec": {
      "name": "python3",
      "display_name": "Python 3"
    },
    "language_info": {
      "name": "python"
    },
    "accelerator": "GPU",
    "gpuClass": "standard"
  },
  "cells": [
    {
      "cell_type": "markdown",
      "metadata": {
        "id": "view-in-github",
        "colab_type": "text"
      },
      "source": [
        "<a href=\"https://colab.research.google.com/github/shilpa2503/Machine-Learning/blob/main/pytorch_Tutorial07.ipynb\" target=\"_parent\"><img src=\"https://colab.research.google.com/assets/colab-badge.svg\" alt=\"Open In Colab\"/></a>"
      ]
    },
    {
      "cell_type": "code",
      "execution_count": 1,
      "metadata": {
        "id": "-Xvne2rWne-y"
      },
      "outputs": [],
      "source": [
        "#Machinde learning pipeline\n",
        "# 1. Design model(input size, output size, forward pass)\n",
        "# 2. Costrcut loss and optimizer\n",
        "# 3. Training loop:\n",
        "#    -Compute forward pass\n",
        "#    -Backkward pass: Compute gradients\n",
        "#    -Update weights. "
      ]
    },
    {
      "cell_type": "code",
      "source": [
        "import torch\n",
        "import torch.nn as nn \n",
        "import numpy as np\n",
        "from sklearn import datasets\n",
        "import matplotlib.pyplot as plt"
      ],
      "metadata": {
        "id": "4vV7SuAGnmEw"
      },
      "execution_count": 2,
      "outputs": []
    },
    {
      "cell_type": "code",
      "source": [
        "#Step 0: Pre process datasets \n",
        "X_numpy, Y_numpy = datasets.make_regression(n_samples=100, n_features=1, noise = 20, random_state=1)\n",
        "\n",
        "X = torch.from_numpy(X_numpy.astype(np.float32))\n",
        "\n",
        "Y = torch.from_numpy(Y_numpy.astype(np.float32))\n",
        "Y=Y.view(Y.shape[0],1)\n",
        "\n",
        "n_samples, n_features = X.shape\n"
      ],
      "metadata": {
        "id": "Ik6NnRtpogIE"
      },
      "execution_count": 3,
      "outputs": []
    },
    {
      "cell_type": "code",
      "source": [
        "#Step 1: Desin model \n",
        "input_size = n_features\n",
        "output_size = 1\n",
        "learning_rate = 0.01\n",
        "model = nn.Linear(input_size, output_size)\n"
      ],
      "metadata": {
        "id": "0ox0egw2vKsz"
      },
      "execution_count": 4,
      "outputs": []
    },
    {
      "cell_type": "code",
      "source": [
        "#Step 2: Loss and optimizer\n",
        "criterion = nn.MSELoss()\n",
        "optimizer = torch.optim.SGD(model.parameters(), lr = learning_rate)"
      ],
      "metadata": {
        "id": "ZFync6OrvLEb"
      },
      "execution_count": 5,
      "outputs": []
    },
    {
      "cell_type": "code",
      "source": [
        "#Step 3: Training loop\n",
        "n_iters = 500\n",
        "\n",
        "for epoch in range(n_iters):\n",
        "  #forward pass and loss\n",
        "  y_pred = model(X)\n",
        "\n",
        "  #loss\n",
        "  loss = criterion(y_pred,Y)\n",
        "\n",
        "  #backward pass --- Computing gradients\n",
        "  loss.backward()\n",
        "  \n",
        "  #update\n",
        "  optimizer.step()\n",
        "\n",
        "  optimizer.zero_grad()\n",
        "\n",
        "  if (epoch + 1 ) % 50 == 0:\n",
        "    print(f'Epoch :{epoch + 1} and Loss for each step :{loss.item():0.8f}')"
      ],
      "metadata": {
        "colab": {
          "base_uri": "https://localhost:8080/"
        },
        "id": "ZUHCkS2nvLXJ",
        "outputId": "14d82cb5-433f-42f5-e55e-91c39839dc10"
      },
      "execution_count": 6,
      "outputs": [
        {
          "output_type": "stream",
          "name": "stdout",
          "text": [
            "Epoch :50 and Loss for each step :1452.01721191\n",
            "Epoch :100 and Loss for each step :562.61242676\n",
            "Epoch :150 and Loss for each step :380.34588623\n",
            "Epoch :200 and Loss for each step :342.55734253\n",
            "Epoch :250 and Loss for each step :334.66494751\n",
            "Epoch :300 and Loss for each step :333.00906372\n",
            "Epoch :350 and Loss for each step :332.66061401\n",
            "Epoch :400 and Loss for each step :332.58718872\n",
            "Epoch :450 and Loss for each step :332.57171631\n",
            "Epoch :500 and Loss for each step :332.56845093\n"
          ]
        }
      ]
    },
    {
      "cell_type": "code",
      "source": [
        "#plot \n",
        "predicted = model(X).detach().numpy()\n",
        "plt.plot(X_numpy, Y_numpy, 'ro')\n",
        "plt.plot(X_numpy, predicted, 'b')\n",
        "plt.show()"
      ],
      "metadata": {
        "colab": {
          "base_uri": "https://localhost:8080/",
          "height": 268
        },
        "id": "cFI4y-qhvLoB",
        "outputId": "3d9d7cd8-801c-4fce-b277-826b328ade4d"
      },
      "execution_count": 7,
      "outputs": [
        {
          "output_type": "display_data",
          "data": {
            "text/plain": [
              "<Figure size 432x288 with 1 Axes>"
            ],
            "image/png": "[encoded data removed]"
          },
          "metadata": {
            "needs_background": "light"
          }
        }
      ]
    },
    {
      "cell_type": "code",
      "source": [
        ""
      ],
      "metadata": {
        "id": "Q2NsjTjv00u3"
      },
      "execution_count": null,
      "outputs": []
    }
  ]
}