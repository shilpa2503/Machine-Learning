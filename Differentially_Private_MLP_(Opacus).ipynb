{
  "nbformat": 4,
  "nbformat_minor": 0,
  "metadata": {
    "colab": {
      "provenance": [],
      "include_colab_link": true
    },
    "kernelspec": {
      "name": "python3",
      "display_name": "Python 3"
    },
    "language_info": {
      "name": "python"
    }
  },
  "cells": [
    {
      "cell_type": "markdown",
      "metadata": {
        "id": "view-in-github",
        "colab_type": "text"
      },
      "source": [
        "<a href=\"https://colab.research.google.com/github/shilpa2503/Machine-Learning/blob/main/Differentially_Private_MLP_(Opacus).ipynb\" target=\"_parent\"><img src=\"https://colab.research.google.com/assets/colab-badge.svg\" alt=\"Open In Colab\"/></a>"
      ]
    },
    {
      "cell_type": "code",
      "execution_count": null,
      "metadata": {
        "id": "rWLLFUXGU6F4"
      },
      "outputs": [],
      "source": [
        "import copy\n",
        "import numpy as np\n",
        "import torch\n",
        "import os\n",
        "import torch\n",
        "import numpy as np\n",
        "import pandas as pd\n",
        "from sklearn.model_selection import train_test_split\n",
        "from torch.utils.data import TensorDataset, DataLoader"
      ]
    },
    {
      "cell_type": "code",
      "source": [
        "import torch\n",
        "from torch import nn\n",
        "import torch.nn.functional as F\n",
        "import math\n",
        "\n",
        "class MLP(nn.Module):\n",
        "    def __init__(self, dim_in, dim_hidden, dim_out):\n",
        "        super(MLP, self).__init__()\n",
        "        self.layer_input = nn.Linear(dim_in, dim_hidden)\n",
        "        self.relu = nn.ReLU()\n",
        "        # self.dropout = nn.Dropout()\n",
        "        self.layer_hidden = nn.Linear(dim_hidden, dim_out)\n",
        "\n",
        "    def forward(self, x):\n",
        "        x = self.layer_input(x)\n",
        "        # x = self.dropout(x)\n",
        "        x = self.relu(x)\n",
        "        x = self.layer_hidden(x)\n",
        "        return x\n"
      ],
      "metadata": {
        "id": "fBnRQl93VQuL"
      },
      "execution_count": null,
      "outputs": []
    },
    {
      "cell_type": "code",
      "source": [
        "def get_dataset():\n",
        "  df = pd.read_csv('/content/drive/MyDrive/wine.csv').dropna()\n",
        "  mask = (df.type == 'white')\n",
        "  df.loc[mask, 'type'] = 0\n",
        "  mask2 = (df.type == 'red')\n",
        "  df.loc[mask2, 'type'] = 1\n",
        "\n",
        "  columns = ['fixed acidity', 'volatile acidity', 'citric acid', 'residual sugar', 'chlorides',\n",
        "              'free sulfur dioxide', 'total sulfur dioxide', 'density', 'pH', 'sulphates', 'alcohol', 'quality']\n",
        "  df_x = df.drop('type', axis=1)\n",
        "  df_x = df_x[columns].astype(float)\n",
        "  df_y = df['type']\n",
        "  df_y = df_y.astype(int)\n",
        "  X = df_x.to_numpy()\n",
        "  Y = df_y.to_numpy()\n",
        "  x_train, x_val, y_train, y_val = train_test_split(X, Y, test_size=0.1, random_state=42)\n",
        "\n",
        "  train_dataset = DataLoader(\n",
        "      TensorDataset(torch.from_numpy(x_train).float(), torch.from_numpy(y_train).long()))\n",
        "\n",
        "  test_dataset = DataLoader(\n",
        "      TensorDataset(torch.from_numpy(x_val).float(), torch.from_numpy(y_val).long()))\n",
        "  return train_dataset, test_dataset"
      ],
      "metadata": {
        "id": "KJxzDbsTV7CH"
      },
      "execution_count": null,
      "outputs": []
    },
    {
      "cell_type": "code",
      "source": [
        "dataset_train, dataset_test = get_dataset()"
      ],
      "metadata": {
        "id": "srXPiAN5Vdtx"
      },
      "execution_count": null,
      "outputs": []
    },
    {
      "cell_type": "code",
      "source": [
        "num_classes = 2\n",
        "len_in = 1\n",
        "dataset_train = dataset_train.dataset\n",
        "dataset_test = dataset_test.dataset\n",
        "data_size = dataset_train[0][0].shape\n",
        "for x in data_size:\n",
        "    len_in *= x\n",
        "net = MLP(dim_in=len_in, dim_hidden=200, dim_out=num_classes)"
      ],
      "metadata": {
        "id": "PrjRQjvQWhki"
      },
      "execution_count": null,
      "outputs": []
    },
    {
      "cell_type": "code",
      "source": [
        "def train(net):\n",
        "  loss_func = nn.CrossEntropyLoss()\n",
        "  batch_size = 64\n",
        "  ldr_train = DataLoader((dataset_train), batch_size=batch_size, shuffle=True)\n",
        "\n",
        "  net.train()\n",
        "    # train and update\n",
        "\n",
        "  optimizer = torch.optim.SGD(net.parameters(), lr=0.001, momentum=0.9)\n",
        "\n",
        "  epoch_loss = []\n",
        "  for iter in range(100):\n",
        "      batch_loss = []\n",
        "      for batch_idx, (images, labels) in enumerate(ldr_train):\n",
        "          net.zero_grad()\n",
        "          log_probs = net(images)\n",
        "\n",
        "          loss = loss_func(log_probs, labels)\n",
        "\n",
        "          loss.backward()\n",
        "          optimizer.step()\n",
        "\n",
        "          batch_loss.append(loss.item())\n",
        "\n",
        "      epoch_loss.append(sum(batch_loss) / len(batch_loss))\n",
        "\n",
        "  return net.state_dict(), sum(epoch_loss) / len(epoch_loss)"
      ],
      "metadata": {
        "id": "9V0soXjcXNSG"
      },
      "execution_count": null,
      "outputs": []
    },
    {
      "cell_type": "code",
      "source": [
        "w, loss = train(net)"
      ],
      "metadata": {
        "id": "CLX9edhYZDwE"
      },
      "execution_count": null,
      "outputs": []
    },
    {
      "cell_type": "code",
      "source": [
        "net.load_state_dict(w)"
      ],
      "metadata": {
        "colab": {
          "base_uri": "https://localhost:8080/"
        },
        "id": "p5MP7bpMZFc7",
        "outputId": "eca54ac9-efe2-43f4-95a4-94961a770e98"
      },
      "execution_count": null,
      "outputs": [
        {
          "output_type": "execute_result",
          "data": {
            "text/plain": [
              "<All keys matched successfully>"
            ]
          },
          "metadata": {},
          "execution_count": 77
        }
      ]
    },
    {
      "cell_type": "code",
      "source": [
        "import torch.nn.functional as F\n",
        "from torch.utils.data import DataLoader\n",
        "def test_img(net, datatest):\n",
        "    net.eval()\n",
        "    # testing\n",
        "    test_loss = 0\n",
        "    correct = 0\n",
        "    data_loader = DataLoader(datatest, batch_size=64)\n",
        "    l = len(data_loader)\n",
        "    for idx, (data, target) in enumerate(data_loader):\n",
        "        log_probs = net(data)\n",
        "        # sum up batch loss\n",
        "        test_loss += F.cross_entropy(log_probs, target, reduction='sum').item()\n",
        "        # get the index of the max log-probability\n",
        "        y_pred = log_probs.data.max(1, keepdim=True)[1]\n",
        "        correct += y_pred.eq(target.data.view_as(y_pred)).long().cpu().sum()\n",
        "\n",
        "    test_loss /= len(data_loader.dataset)\n",
        "    accuracy = 100.00 * correct / len(data_loader.dataset)\n",
        "\n",
        "    return accuracy, test_loss"
      ],
      "metadata": {
        "id": "Nkp8SRD4eIqP"
      },
      "execution_count": null,
      "outputs": []
    },
    {
      "cell_type": "code",
      "source": [
        "acc_train, loss_train_ = test_img(net, dataset_train)\n",
        "acc_test, loss_test = test_img(net, dataset_test)"
      ],
      "metadata": {
        "id": "bNC38BTQfBsB"
      },
      "execution_count": null,
      "outputs": []
    },
    {
      "cell_type": "code",
      "source": [
        "print(\"Training accuracy: {:.2f}\".format(acc_train))\n",
        "print(\"Testing accuracy: {:.2f}\".format(acc_test))"
      ],
      "metadata": {
        "colab": {
          "base_uri": "https://localhost:8080/"
        },
        "id": "5x1sVqDKfPOA",
        "outputId": "b11f14ca-7002-4dae-c7ae-9154427b6337"
      },
      "execution_count": null,
      "outputs": [
        {
          "output_type": "stream",
          "name": "stdout",
          "text": [
            "Training accuracy: 94.67\n",
            "Testing accuracy: 94.90\n"
          ]
        }
      ]
    },
    {
      "cell_type": "code",
      "source": [],
      "metadata": {
        "id": "mIDUqex0feyE"
      },
      "execution_count": null,
      "outputs": []
    }
  ]
}