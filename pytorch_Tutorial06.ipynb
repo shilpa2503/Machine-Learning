{
  "nbformat": 4,
  "nbformat_minor": 0,
  "metadata": {
    "colab": {
      "name": "pytorch_Tutorial06.ipynb",
      "provenance": [],
      "collapsed_sections": [],
      "authorship_tag": "ABX9TyMrexi2h72VgkE3DCih9/V6",
      "include_colab_link": true
    },
    "kernelspec": {
      "name": "python3",
      "display_name": "Python 3"
    },
    "language_info": {
      "name": "python"
    }
  },
  "cells": [
    {
      "cell_type": "markdown",
      "metadata": {
        "id": "view-in-github",
        "colab_type": "text"
      },
      "source": [
        "<a href=\"https://colab.research.google.com/github/shilpa2503/Machine-Learning/blob/main/pytorch_Tutorial06.ipynb\" target=\"_parent\"><img src=\"https://colab.research.google.com/assets/colab-badge.svg\" alt=\"Open In Colab\"/></a>"
      ]
    },
    {
      "cell_type": "code",
      "execution_count": 32,
      "metadata": {
        "id": "4zpI3JpFMEFD"
      },
      "outputs": [],
      "source": [
        "#1. Design model (input size and forward pass)\n",
        "#2. Construct loss and optimizer\n",
        "#3. Training loop:\n",
        "#   - Forward pass: compute prediction\n",
        "#   - backward pass: gradients \n",
        "#   - update weights    "
      ]
    },
    {
      "cell_type": "code",
      "source": [
        "import torch\n",
        "import torch.nn as nn"
      ],
      "metadata": {
        "id": "EXlkVP0lM49_"
      },
      "execution_count": 33,
      "outputs": []
    },
    {
      "cell_type": "code",
      "source": [
        "X= torch.tensor([[1],[2],[3],[4]], dtype=torch.float32)\n",
        "Y= torch.tensor([[2],[4],[6],[8]], dtype=torch.float32)\n",
        "n_samples, n_features = X.shape\n",
        "x_test = torch.tensor([5], dtype = torch.float32)\n"
      ],
      "metadata": {
        "id": "YOrsWavUVMs3"
      },
      "execution_count": 57,
      "outputs": []
    },
    {
      "cell_type": "code",
      "source": [
        "from torch.nn.modules.linear import Linear\n",
        "class LinearRegression(nn.Module):\n",
        "\n",
        "  def __init__(self, input_dim, output_dim):\n",
        "    super(LinearRegression,self).__init__()\n",
        "    #define layers\n",
        "    self.lin = nn.Linear(input_dim,output_dim)\n",
        "  \n",
        "  def forward(self,x):\n",
        "    return self.lin(x)\n"
      ],
      "metadata": {
        "id": "vWHOg4mghUwv"
      },
      "execution_count": 60,
      "outputs": []
    },
    {
      "cell_type": "code",
      "source": [
        "input_size = n_features\n",
        "output_size = n_features\n",
        "#model = nn.Linear(input_size,output_size)\n",
        "model = LinearRegression(input_size,output_size)\n",
        "\n",
        "print(f'Predcition before training: f(5) = {model(x_test).item():.3f}')"
      ],
      "metadata": {
        "colab": {
          "base_uri": "https://localhost:8080/"
        },
        "id": "En8d5kHzVpOj",
        "outputId": "281f3702-1dca-4c65-ef35-2ab46ee19673"
      },
      "execution_count": 61,
      "outputs": [
        {
          "output_type": "stream",
          "name": "stdout",
          "text": [
            "Predcition before training: f(5) = -3.326\n"
          ]
        }
      ]
    },
    {
      "cell_type": "code",
      "source": [
        "learning_rate = 0.04\n",
        "n_iters = 700"
      ],
      "metadata": {
        "id": "yfqsYSSxV9FH"
      },
      "execution_count": 62,
      "outputs": []
    },
    {
      "cell_type": "code",
      "source": [
        "loss = nn.MSELoss()\n",
        "optimizer = torch.optim.SGD(model.parameters(), lr=learning_rate)"
      ],
      "metadata": {
        "id": "aYO5pmHxWJo-"
      },
      "execution_count": 63,
      "outputs": []
    },
    {
      "cell_type": "code",
      "source": [
        "#Training loop\n",
        "\n",
        "for epoch in range(n_iters):\n",
        "  #Forward pass: compute prediction\n",
        "  y_pred= model(X)\n",
        "\n",
        "  #compute loss \n",
        "  l = loss(Y,y_pred)\n",
        "\n",
        "  #backward pass: gradients \n",
        "  l.backward()\n",
        "\n",
        "  #update weight\n",
        "  optimizer.step()\n",
        "\n",
        "  #empty gradients\n",
        "  optimizer.zero_grad()\n",
        "\n",
        "  if epoch % 30 == 0:\n",
        "    [w,b] = model.parameters()\n",
        "    print(f'epoch{epoch + 1}: w={w[0][0].item():.3f}, loss = {l:.8f}')\n",
        "\n",
        "print(f'Predcition after training: f(5) = {model(x_test).item():.3f}')\n"
      ],
      "metadata": {
        "colab": {
          "base_uri": "https://localhost:8080/"
        },
        "id": "oyFbvdxQWiAG",
        "outputId": "c24c4ccc-8666-4bc1-9a3b-93e0c5b00b5c"
      },
      "execution_count": 64,
      "outputs": [
        {
          "output_type": "stream",
          "name": "stdout",
          "text": [
            "epoch1: w=1.128, loss = 57.10951996\n",
            "epoch31: w=1.965, loss = 0.00180317\n",
            "epoch61: w=1.976, loss = 0.00087518\n",
            "epoch91: w=1.983, loss = 0.00042478\n",
            "epoch121: w=1.988, loss = 0.00020617\n",
            "epoch151: w=1.992, loss = 0.00010006\n",
            "epoch181: w=1.994, loss = 0.00004857\n",
            "epoch211: w=1.996, loss = 0.00002357\n",
            "epoch241: w=1.997, loss = 0.00001144\n",
            "epoch271: w=1.998, loss = 0.00000555\n",
            "epoch301: w=1.999, loss = 0.00000270\n",
            "epoch331: w=1.999, loss = 0.00000131\n",
            "epoch361: w=1.999, loss = 0.00000063\n",
            "epoch391: w=2.000, loss = 0.00000031\n",
            "epoch421: w=2.000, loss = 0.00000015\n",
            "epoch451: w=2.000, loss = 0.00000007\n",
            "epoch481: w=2.000, loss = 0.00000004\n",
            "epoch511: w=2.000, loss = 0.00000002\n",
            "epoch541: w=2.000, loss = 0.00000001\n",
            "epoch571: w=2.000, loss = 0.00000000\n",
            "epoch601: w=2.000, loss = 0.00000000\n",
            "epoch631: w=2.000, loss = 0.00000000\n",
            "epoch661: w=2.000, loss = 0.00000000\n",
            "epoch691: w=2.000, loss = 0.00000000\n",
            "Predcition after training: f(5) = 10.000\n"
          ]
        }
      ]
    },
    {
      "cell_type": "code",
      "source": [
        ""
      ],
      "metadata": {
        "id": "8hAa7jjQYGPK"
      },
      "execution_count": null,
      "outputs": []
    }
  ]
}