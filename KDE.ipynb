{
  "nbformat": 4,
  "nbformat_minor": 0,
  "metadata": {
    "colab": {
      "name": "KDE.ipynb",
      "provenance": [],
      "collapsed_sections": [],
      "authorship_tag": "ABX9TyPw4DfwXqGeQ/1kXmK9cAgq",
      "include_colab_link": true
    },
    "kernelspec": {
      "name": "python3",
      "display_name": "Python 3"
    },
    "language_info": {
      "name": "python"
    }
  },
  "cells": [
    {
      "cell_type": "markdown",
      "metadata": {
        "id": "view-in-github",
        "colab_type": "text"
      },
      "source": [
        "<a href=\"https://colab.research.google.com/github/shilpa2503/Machine-Learning/blob/main/KDE.ipynb\" target=\"_parent\"><img src=\"https://colab.research.google.com/assets/colab-badge.svg\" alt=\"Open In Colab\"/></a>"
      ]
    },
    {
      "cell_type": "code",
      "execution_count": 78,
      "metadata": {
        "colab": {
          "base_uri": "https://localhost:8080/"
        },
        "id": "CZFnnOXXhpb6",
        "outputId": "69dafd1a-e2d4-4c45-c24e-23ea0922787d"
      },
      "outputs": [
        {
          "output_type": "stream",
          "name": "stdout",
          "text": [
            "Question: Kernel/K-Nearest Neighborhood Density Estimators\n"
          ]
        }
      ],
      "source": [
        "import numpy as np\n",
        "import matplotlib.pyplot as plt\n",
        "print('Question: Kernel/K-Nearest Neighborhood Density Estimators')"
      ]
    },
    {
      "cell_type": "code",
      "source": [
        "def parameters():\n",
        "    h = 0.3  # kde windowsize / radius\n",
        "    return h"
      ],
      "metadata": {
        "id": "HnnNbxowjx71"
      },
      "execution_count": 79,
      "outputs": []
    },
    {
      "cell_type": "code",
      "source": [
        "h = parameters()"
      ],
      "metadata": {
        "id": "LloGWWd2jwpP"
      },
      "execution_count": 80,
      "outputs": []
    },
    {
      "cell_type": "code",
      "source": [
        "\n",
        "def gauss1D(m, v, N, w):\n",
        "    pos = np.arange(-w, w - w / N, 2 * w / N)\n",
        "    insE = -0.5 * ((pos - m) / v) ** 2\n",
        "    norm = 1 / (v * np.sqrt(2 * np.pi))\n",
        "    res = norm * np.exp(insE)\n",
        "    realDensity = np.stack((pos, res), axis=1)\n",
        "    return realDensity"
      ],
      "metadata": {
        "id": "AlQoYjFViAZ2"
      },
      "execution_count": 81,
      "outputs": []
    },
    {
      "cell_type": "code",
      "source": [
        "def kde(samples, h):\n",
        "    # compute density estimation from samples with KDE\n",
        "    # Input\n",
        "    #  samples    : DxN matrix of data points\n",
        "    #  h          : (half) window size/radius of kernel\n",
        "    # Output\n",
        "    #  estDensity : estimated density in the range of [-5,5]\n",
        "\n",
        "    #####Start Subtask 5a#####\n",
        "    # Compute the number of samples created\n",
        "    D = 1\n",
        "    N =len(samples)\n",
        "        \n",
        "    exp_tae = np.exp(-(pos[np.newaxis, :] - samples[:, np.newaxis]) ** 2 / (2 * h ** 2))\n",
        "    norm = ((2 * np.pi) ** D/2) * h \n",
        "    res = np.sum(exp_tae,axis=0)/(norm * N)\n",
        "\n",
        "    estDensity = np.stack((pos,res),axis = 1)\n",
        "\n",
        "    #####End Subtask#####\n",
        "    return estDensity"
      ],
      "metadata": {
        "id": "DJfF6gunjj5k"
      },
      "execution_count": 83,
      "outputs": []
    },
    {
      "cell_type": "code",
      "source": [
        "samples = np.random.normal(0, 1, 100)\n",
        "len(samples)"
      ],
      "metadata": {
        "colab": {
          "base_uri": "https://localhost:8080/"
        },
        "id": "RGCoF850hrSR",
        "outputId": "4f626f11-587e-49fb-eb46-d51831c5bb60"
      },
      "execution_count": 85,
      "outputs": [
        {
          "output_type": "execute_result",
          "data": {
            "text/plain": [
              "100"
            ]
          },
          "metadata": {},
          "execution_count": 85
        }
      ]
    },
    {
      "cell_type": "code",
      "source": [
        "realDensity = gauss1D(0, 1, 100, 5)\n",
        "estDensity = kde(samples, h)"
      ],
      "metadata": {
        "id": "4IqWMwV_kxnm"
      },
      "execution_count": 86,
      "outputs": []
    },
    {
      "cell_type": "code",
      "source": [
        "plt.subplot(2, 1, 1)\n",
        "plt.plot(estDensity[:, 0], estDensity[:, 1], 'r', linewidth=1.5, label='kde Distribution')\n",
        "plt.plot(realDensity[:, 0], realDensity[:, 1], 'b', linewidth=1.5, label='Real Distribution')\n",
        "plt.legend()\n",
        "plt.show()"
      ],
      "metadata": {
        "colab": {
          "base_uri": "https://localhost:8080/",
          "height": 147
        },
        "id": "rell3DFsh3IJ",
        "outputId": "04214640-846d-4bd2-fd0c-c80f5e4f5be7"
      },
      "execution_count": 87,
      "outputs": [
        {
          "output_type": "display_data",
          "data": {
            "text/plain": [
              "<Figure size 432x288 with 1 Axes>"
            ],
            "image/png": "[encoded data removed]"
          },
          "metadata": {
            "needs_background": "light"
          }
        }
      ]
    },
    {
      "cell_type": "code",
      "source": [
        "pos = np.arange(-5, 5.0, 0.1)"
      ],
      "metadata": {
        "id": "oxwM-hNCiLYw"
      },
      "execution_count": 76,
      "outputs": []
    },
    {
      "cell_type": "code",
      "source": [
        "a = np.array([1, 2, 3])\n",
        "b = np.array([4, 5, 6])\n",
        "np.stack((a,b),axis=1)"
      ],
      "metadata": {
        "colab": {
          "base_uri": "https://localhost:8080/"
        },
        "id": "Km-y5MSFnxb3",
        "outputId": "1163004a-8599-44c8-d563-22f029aabab5"
      },
      "execution_count": 77,
      "outputs": [
        {
          "output_type": "execute_result",
          "data": {
            "text/plain": [
              "array([[1, 4],\n",
              "       [2, 5],\n",
              "       [3, 6]])"
            ]
          },
          "metadata": {},
          "execution_count": 77
        }
      ]
    },
    {
      "cell_type": "code",
      "source": [
        ""
      ],
      "metadata": {
        "id": "n4krQhoMpKlT"
      },
      "execution_count": null,
      "outputs": []
    }
  ]
}